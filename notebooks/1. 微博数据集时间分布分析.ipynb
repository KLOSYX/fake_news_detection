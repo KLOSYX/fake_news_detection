{
 "cells": [
  {
   "cell_type": "code",
   "execution_count": null,
   "metadata": {},
   "outputs": [],
   "source": [
    "import time\n",
    "\n",
    "import pandas as pd\n",
    "import pyrootutils\n",
    "\n",
    "root = pyrootutils.setup_root(\".\", pythonpath=True)"
   ]
  },
  {
   "cell_type": "code",
   "execution_count": null,
   "metadata": {},
   "outputs": [],
   "source": [
    "json_file_list = [\n",
    "    root / \"data/MM17-WeiboRumorSet/test_nonrumor_format.json\",\n",
    "    root / \"data/MM17-WeiboRumorSet/test_rumor_format.json\",\n",
    "    root / \"data/MM17-WeiboRumorSet/train_nonrumor_format.json\",\n",
    "    root / \"data/MM17-WeiboRumorSet/train_rumor_format.json\",\n",
    "]\n",
    "\n",
    "dfs = [pd.read_json(file, lines=True) for file in json_file_list]"
   ]
  },
  {
   "cell_type": "code",
   "execution_count": null,
   "metadata": {},
   "outputs": [],
   "source": [
    "test_data = pd.concat(dfs[:2])\n",
    "train_data = pd.concat(dfs[2:])"
   ]
  },
  {
   "cell_type": "code",
   "execution_count": null,
   "metadata": {},
   "outputs": [],
   "source": [
    "train_data.head(3)"
   ]
  },
  {
   "cell_type": "code",
   "execution_count": null,
   "metadata": {},
   "outputs": [],
   "source": [
    "train_data[\"published_date\"] = train_data.meta_data.apply(lambda x: x[4])\n",
    "test_data[\"published_date\"] = test_data.meta_data.apply(lambda x: x[4])"
   ]
  },
  {
   "cell_type": "code",
   "execution_count": null,
   "metadata": {},
   "outputs": [],
   "source": [
    "def format_time(text: str) -> str:\n",
    "    \"\"\"handle difference in published date field\"\"\"\n",
    "    try:\n",
    "        return time.strftime(\"%Y-%m-%d %H:%M\", time.localtime(float(text) / 1e3))\n",
    "    except ValueError:\n",
    "        return text"
   ]
  },
  {
   "cell_type": "code",
   "execution_count": null,
   "metadata": {},
   "outputs": [],
   "source": [
    "pd.to_datetime(train_data.published_date.apply(format_time)).hist()"
   ]
  },
  {
   "cell_type": "code",
   "execution_count": null,
   "metadata": {},
   "outputs": [],
   "source": [
    "pd.to_datetime(test_data.published_date.apply(format_time)).hist()"
   ]
  },
  {
   "cell_type": "markdown",
   "metadata": {},
   "source": [
    "**结论:原始的微博数据集中的训练集和测试集在时间的分布上是重合的**"
   ]
  }
 ],
 "metadata": {
  "kernelspec": {
   "display_name": "Python 3.9.12 ('fake_news_detection')",
   "language": "python",
   "name": "python3"
  },
  "language_info": {
   "codemirror_mode": {
    "name": "ipython",
    "version": 3
   },
   "file_extension": ".py",
   "mimetype": "text/x-python",
   "name": "python",
   "nbconvert_exporter": "python",
   "pygments_lexer": "ipython3",
   "version": "3.9.12"
  },
  "vscode": {
   "interpreter": {
    "hash": "a289c90f01c4539891e961280e81b0f3dd3c992399cf7e9c131c6d3a4abe927d"
   }
  }
 },
 "nbformat": 4,
 "nbformat_minor": 2
}
