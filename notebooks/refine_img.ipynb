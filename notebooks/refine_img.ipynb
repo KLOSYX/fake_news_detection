{
 "cells": [
  {
   "cell_type": "code",
   "execution_count": 1,
   "metadata": {},
   "outputs": [],
   "source": [
    "from pathlib import Path\n",
    "\n",
    "import cv2\n",
    "from tqdm import tqdm"
   ]
  },
  {
   "cell_type": "code",
   "execution_count": 2,
   "metadata": {},
   "outputs": [],
   "source": [
    "\"\"\"\n",
    "refine images\n",
    "\"\"\"\n",
    "def refine_images(root_dir: Path, path: Path):\n",
    "    try:\n",
    "        image = cv2.imread(str(path))\n",
    "        save_path = root_dir / (path.stem + \".jpg\")\n",
    "        cv2.imwrite(str(save_path), image)\n",
    "    except Exception as e:\n",
    "        print(e)\n",
    "        save_path = ''\n",
    "    return str(save_path)\n",
    "    "
   ]
  },
  {
   "cell_type": "code",
   "execution_count": 3,
   "metadata": {},
   "outputs": [],
   "source": [
    "def main():\n",
    "    target_directories = ['nonrumor_images', 'rumor_images']\n",
    "    save_path = Path('images')\n",
    "    old2new = {}\n",
    "    for directory in target_directories:\n",
    "        directory = Path(directory)\n",
    "        for path in tqdm(directory.glob('*'), desc='refine images in {}'.format(directory)):\n",
    "            if path.suffix in ['.gif']:\n",
    "                continue\n",
    "            old2new[str(path)] = refine_images(save_path, path)\n",
    "    with open('old2new.txt', 'w') as f:\n",
    "        for old, new in old2new.items():\n",
    "            f.write(f'{old} {new}\\n')"
   ]
  },
  {
   "cell_type": "code",
   "execution_count": 4,
   "metadata": {},
   "outputs": [
    {
     "name": "stderr",
     "output_type": "stream",
     "text": [
      "refine images in nonrumor_images: 5318it [01:25, 62.12it/s]\n",
      "refine images in rumor_images: 7061it [01:55, 49.26it/s]"
     ]
    },
    {
     "name": "stdout",
     "output_type": "stream",
     "text": [
      "OpenCV(4.6.0) /io/opencv/modules/imgcodecs/src/loadsave.cpp:801: error: (-215:Assertion failed) !_img.empty() in function 'imwrite'\n",
      "\n"
     ]
    },
    {
     "name": "stderr",
     "output_type": "stream",
     "text": [
      "refine images in rumor_images: 7954it [02:11, 60.53it/s]\n"
     ]
    }
   ],
   "source": [
    "main()"
   ]
  }
 ],
 "metadata": {
  "kernelspec": {
   "display_name": "Python 3.9.12 ('base')",
   "language": "python",
   "name": "python3"
  },
  "language_info": {
   "codemirror_mode": {
    "name": "ipython",
    "version": 3
   },
   "file_extension": ".py",
   "mimetype": "text/x-python",
   "name": "python",
   "nbconvert_exporter": "python",
   "pygments_lexer": "ipython3",
   "version": "3.9.12"
  },
  "orig_nbformat": 4,
  "vscode": {
   "interpreter": {
    "hash": "61a57a4b5406d2de388e2f91097d4e4bcd7d5f4a46f53a795aa28a02eed27fc5"
   }
  }
 },
 "nbformat": 4,
 "nbformat_minor": 2
}
