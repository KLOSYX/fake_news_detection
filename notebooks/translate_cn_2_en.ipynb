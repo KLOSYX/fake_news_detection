{
 "cells": [
  {
   "cell_type": "code",
   "execution_count": null,
   "metadata": {},
   "outputs": [],
   "source": [
    "# import hashlib\n",
    "# import json\n",
    "# import random\n",
    "# from hashlib import md5\n",
    "\n",
    "# import requests\n",
    "\n",
    "\n",
    "# class BaiDuFanyi:\n",
    "#     def __init__(self, appKey, appSecret):\n",
    "#         self.url = \"https://fanyi-api.baidu.com/api/trans/vip/translate\"\n",
    "#         self.appid = appKey\n",
    "#         self.secretKey = appSecret\n",
    "#         self.fromLang = \"auto\"\n",
    "#         self.toLang = \"en\"\n",
    "#         self.salt = random.randint(32768, 65536)\n",
    "#         self.header = {\"Content-Type\": \"application/x-www-form-urlencoded\"}\n",
    "\n",
    "#     def BdTrans(self, text):\n",
    "#         sign = self.appid + text + str(self.salt) + self.secretKey\n",
    "#         md = hashlib.md5()\n",
    "#         md.update(sign.encode(encoding=\"utf-8\"))\n",
    "#         sign = md.hexdigest()\n",
    "#         data = {\n",
    "#             \"appid\": self.appid,\n",
    "#             \"q\": text,\n",
    "#             \"from\": self.fromLang,\n",
    "#             \"to\": self.toLang,\n",
    "#             \"salt\": self.salt,\n",
    "#             \"sign\": sign,\n",
    "#         }\n",
    "#         response = requests.post(self.url, params=data, headers=self.header)  # 发送post请求\n",
    "#         text = response.json()  # 返回的为json格式用json接收数据\n",
    "#         # print(text)\n",
    "#         try:\n",
    "#             results = text[\"trans_result\"][0][\"dst\"]\n",
    "#         except Exception:\n",
    "#             results = \"\"\n",
    "#         return results\n",
    "\n",
    "\n",
    "# if __name__ == \"__main__\":\n",
    "#     appKey = \"20221012001387816\"  # 你在第一步申请的APP ID\n",
    "#     appSecret = \"ThXoAK3TTPMmnaOKX0yF\"  # 公钥\n",
    "#     BaiduTranslate_test = BaiDuFanyi(appKey, appSecret)\n",
    "#     Results = BaiduTranslate_test.BdTrans(\"Hello, World!\")  # 要翻译的词组\n",
    "#     print(Results)"
   ]
  },
  {
   "cell_type": "code",
   "execution_count": null,
   "metadata": {},
   "outputs": [],
   "source": [
    "import json\n",
    "\n",
    "import pandas as pd\n",
    "import pyrootutils\n",
    "\n",
    "root = pyrootutils.setup_root(\".\")"
   ]
  },
  {
   "cell_type": "code",
   "execution_count": null,
   "metadata": {},
   "outputs": [],
   "source": [
    "data_file_list = [\n",
    "    \"test_nonrumor_format.json\",\n",
    "    \"test_rumor_format.json\",\n",
    "    \"train_nonrumor_format.json\",\n",
    "    \"train_rumor_format.json\",\n",
    "]"
   ]
  },
  {
   "cell_type": "code",
   "execution_count": null,
   "metadata": {},
   "outputs": [],
   "source": [
    "dfs = [pd.read_json(root / \"data\" / \"MM17-WeiboRumorSet\" / f, lines=True) for f in data_file_list]"
   ]
  },
  {
   "cell_type": "code",
   "execution_count": null,
   "metadata": {},
   "outputs": [],
   "source": [
    "all_data = pd.concat(dfs, ignore_index=True)"
   ]
  },
  {
   "cell_type": "code",
   "execution_count": null,
   "metadata": {},
   "outputs": [],
   "source": [
    "all_data.shape"
   ]
  },
  {
   "cell_type": "code",
   "execution_count": null,
   "metadata": {},
   "outputs": [],
   "source": [
    "all_data[\"title\"] = all_data[\"title\"].apply(lambda x: x[0] if isinstance(x, list) else x)"
   ]
  },
  {
   "cell_type": "code",
   "execution_count": null,
   "metadata": {},
   "outputs": [],
   "source": [
    "all_data.head(3)"
   ]
  },
  {
   "cell_type": "code",
   "execution_count": null,
   "metadata": {},
   "outputs": [],
   "source": [
    "import jionlp\n",
    "from tqdm import tqdm"
   ]
  },
  {
   "cell_type": "code",
   "execution_count": null,
   "metadata": {},
   "outputs": [],
   "source": [
    "def clean_text(text: str):\n",
    "    text = jionlp.remove_html_tag(text)\n",
    "    text = jionlp.remove_exception_char(text)\n",
    "    text = jionlp.remove_redundant_char(text)\n",
    "    text = jionlp.replace_url(text)\n",
    "    text = jionlp.replace_id_card(text)\n",
    "    text = jionlp.replace_phone_number(text)\n",
    "    text = jionlp.replace_email(text)\n",
    "    text = jionlp.replace_ip_address(text)\n",
    "    text = jionlp.replace_qq(text)\n",
    "    return text"
   ]
  },
  {
   "cell_type": "code",
   "execution_count": null,
   "metadata": {},
   "outputs": [],
   "source": [
    "all_data[\"cleaned_text\"] = all_data[\"title\"].apply(clean_text)"
   ]
  },
  {
   "cell_type": "code",
   "execution_count": null,
   "metadata": {},
   "outputs": [],
   "source": [
    "all_data[[\"title\", \"cleaned_text\"]].sample(3)"
   ]
  },
  {
   "cell_type": "code",
   "execution_count": null,
   "metadata": {},
   "outputs": [],
   "source": [
    "# all_data[\"cleaned_text\"] = all_data[\"title\"].apply(jionlp.clean_text)"
   ]
  },
  {
   "cell_type": "code",
   "execution_count": null,
   "metadata": {},
   "outputs": [],
   "source": [
    "all_data[[\"title\", \"cleaned_text\"]].sample(3)"
   ]
  },
  {
   "cell_type": "code",
   "execution_count": null,
   "metadata": {},
   "outputs": [],
   "source": [
    "# translator = BaiDuFanyi(appKey, appSecret)"
   ]
  },
  {
   "cell_type": "code",
   "execution_count": null,
   "metadata": {},
   "outputs": [],
   "source": [
    "# tqdm.pandas(desc=\"Translating\")\n",
    "\n",
    "# all_data[\"translated_text\"] = all_data.cleaned_text.progress_apply(translator.BdTrans)"
   ]
  },
  {
   "cell_type": "markdown",
   "metadata": {},
   "source": [
    "# Tencent translate api"
   ]
  },
  {
   "cell_type": "code",
   "execution_count": null,
   "metadata": {},
   "outputs": [],
   "source": [
    "from tencentcloud.common import credential\n",
    "from tencentcloud.common.exception.tencent_cloud_sdk_exception import (\n",
    "    TencentCloudSDKException,\n",
    ")\n",
    "from tencentcloud.common.profile.client_profile import ClientProfile\n",
    "from tencentcloud.common.profile.http_profile import HttpProfile\n",
    "from tencentcloud.tmt.v20180321 import models, tmt_client\n",
    "\n",
    "\n",
    "def tencent_translate(text: str, source: str = \"auto\", target: str = \"en\"):\n",
    "    try:\n",
    "        # 实例化一个认证对象，入参需要传入腾讯云账户secretId，secretKey,此处还需注意密钥对的保密\n",
    "        # 密钥可前往https://console.cloud.tencent.com/cam/capi网站进行获取\n",
    "        cred = credential.Credential(\n",
    "            \"AKIDGQNCrLchZcR2SfdO0SgV9csvnTxDJH5f\", \"67ybtBSXNzPdfTAh0DG6iW5TdYQ4Zr8M\"\n",
    "        )\n",
    "        # 实例化一个http选项，可选的，没有特殊需求可以跳过\n",
    "        httpProfile = HttpProfile()\n",
    "        httpProfile.endpoint = \"tmt.tencentcloudapi.com\"\n",
    "\n",
    "        # 实例化一个client选项，可选的，没有特殊需求可以跳过\n",
    "        clientProfile = ClientProfile()\n",
    "        clientProfile.httpProfile = httpProfile\n",
    "        # 实例化要请求产品的client对象,clientProfile是可选的\n",
    "        client = tmt_client.TmtClient(cred, \"ap-guangzhou\", clientProfile)\n",
    "\n",
    "        # 实例化一个请求对象,每个接口都会对应一个request对象\n",
    "        req = models.TextTranslateRequest()\n",
    "        params = {\n",
    "            \"Action\": \"TextTranslate\",\n",
    "            \"Version\": \"2018-03-21\",\n",
    "            \"SourceText\": text,\n",
    "            \"Source\": source,\n",
    "            \"Target\": target,\n",
    "            \"ProjectId\": 0,\n",
    "        }\n",
    "        req.from_json_string(json.dumps(params))\n",
    "\n",
    "        # 返回的resp是一个TextTranslateResponse的实例，与请求对象对应\n",
    "        resp = client.TextTranslate(req)\n",
    "        # 输出json格式的字符串回包\n",
    "        return json.loads(resp.to_json_string())[\"TargetText\"]\n",
    "\n",
    "    except TencentCloudSDKException as err:\n",
    "        tqdm.write(str(err))\n",
    "        return \"\""
   ]
  },
  {
   "cell_type": "code",
   "execution_count": null,
   "metadata": {},
   "outputs": [],
   "source": [
    "tqdm.pandas(desc=\"Translating\")\n",
    "all_data[\"translated_text\"] = all_data.cleaned_text.progress_apply(tencent_translate)"
   ]
  },
  {
   "cell_type": "code",
   "execution_count": null,
   "metadata": {},
   "outputs": [],
   "source": [
    "all_data[[\"title\", \"cleaned_text\", \"translated_text\"]].sample(3)"
   ]
  },
  {
   "cell_type": "code",
   "execution_count": null,
   "metadata": {},
   "outputs": [],
   "source": [
    "all_data[\"id\"] = all_data.meta_data.apply(lambda x: str(x[0]))"
   ]
  },
  {
   "cell_type": "code",
   "execution_count": null,
   "metadata": {},
   "outputs": [],
   "source": [
    "all_data.translated_text.apply(lambda x: len(x.split())).describe()"
   ]
  },
  {
   "cell_type": "code",
   "execution_count": null,
   "metadata": {},
   "outputs": [],
   "source": [
    "test_data = pd.concat(dfs[:2], ignore_index=True)\n",
    "train_data = pd.concat(dfs[2:], ignore_index=True)"
   ]
  },
  {
   "cell_type": "code",
   "execution_count": null,
   "metadata": {},
   "outputs": [],
   "source": [
    "train_data[\"id\"] = train_data.meta_data.apply(lambda x: str(x[0]))\n",
    "test_data[\"id\"] = test_data.meta_data.apply(lambda x: str(x[0]))"
   ]
  },
  {
   "cell_type": "code",
   "execution_count": null,
   "metadata": {},
   "outputs": [],
   "source": [
    "train_data[\"translated_text\"] = train_data.id.apply(\n",
    "    lambda x: all_data[all_data.id == x].translated_text.values[0]\n",
    ")"
   ]
  },
  {
   "cell_type": "code",
   "execution_count": null,
   "metadata": {},
   "outputs": [],
   "source": [
    "test_data[\"translated_text\"] = test_data.id.apply(\n",
    "    lambda x: all_data[all_data.id == x].translated_text.values[0]\n",
    ")"
   ]
  },
  {
   "cell_type": "code",
   "execution_count": null,
   "metadata": {},
   "outputs": [],
   "source": [
    "train_data[[\"title\", \"translated_text\"]].sample(3)"
   ]
  },
  {
   "cell_type": "code",
   "execution_count": null,
   "metadata": {},
   "outputs": [],
   "source": [
    "train_data.to_json(\n",
    "    root / \"data\" / \"MM17-WeiboRumorSet\" / \"train_data_tencent_translated_cleaned.json\",\n",
    "    orient=\"records\",\n",
    "    lines=True,\n",
    "    force_ascii=False,\n",
    ")\n",
    "test_data.to_json(\n",
    "    root / \"data\" / \"MM17-WeiboRumorSet\" / \"test_data_tencent_translated_cleaned.json\",\n",
    "    orient=\"records\",\n",
    "    lines=True,\n",
    "    force_ascii=False,\n",
    ")"
   ]
  },
  {
   "cell_type": "code",
   "execution_count": null,
   "metadata": {},
   "outputs": [],
   "source": [
    "train_data.translated_text"
   ]
  },
  {
   "cell_type": "code",
   "execution_count": null,
   "metadata": {},
   "outputs": [],
   "source": [
    "train_data.title.sample(3)"
   ]
  },
  {
   "cell_type": "code",
   "execution_count": null,
   "metadata": {},
   "outputs": [],
   "source": []
  }
 ],
 "metadata": {
  "kernelspec": {
   "display_name": "Python 3.9.12 ('fake_news_detection')",
   "language": "python",
   "name": "python3"
  },
  "language_info": {
   "codemirror_mode": {
    "name": "ipython",
    "version": 3
   },
   "file_extension": ".py",
   "mimetype": "text/x-python",
   "name": "python",
   "nbconvert_exporter": "python",
   "pygments_lexer": "ipython3",
   "version": "3.9.12"
  },
  "vscode": {
   "interpreter": {
    "hash": "a289c90f01c4539891e961280e81b0f3dd3c992399cf7e9c131c6d3a4abe927d"
   }
  }
 },
 "nbformat": 4,
 "nbformat_minor": 2
}
