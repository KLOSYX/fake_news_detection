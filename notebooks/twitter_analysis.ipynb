{
 "cells": [
  {
   "cell_type": "code",
   "execution_count": null,
   "metadata": {},
   "outputs": [],
   "source": [
    "import numpy as np\n",
    "import pandas as pd"
   ]
  },
  {
   "cell_type": "code",
   "execution_count": null,
   "metadata": {},
   "outputs": [],
   "source": [
    "train_data = pd.read_json(\n",
    "    \"/root/fake_news_detection/data/image-verification-corpus-master/train_posts.json\", lines=True\n",
    ")\n",
    "test_data = pd.read_json(\n",
    "    \"/root/fake_news_detection/data/image-verification-corpus-master/test_posts.json\", lines=True\n",
    ")"
   ]
  },
  {
   "cell_type": "code",
   "execution_count": null,
   "metadata": {},
   "outputs": [],
   "source": [
    "train_data[\"event\"] = train_data.imgs.apply(lambda x: x.split(\"_\")[0])\n",
    "test_data[\"event\"] = test_data.imgs.apply(lambda x: x.split(\"_\")[0])"
   ]
  },
  {
   "cell_type": "code",
   "execution_count": null,
   "metadata": {},
   "outputs": [],
   "source": [
    "train_data.event.value_counts()"
   ]
  },
  {
   "cell_type": "code",
   "execution_count": null,
   "metadata": {},
   "outputs": [],
   "source": [
    "test_data.event.value_counts()"
   ]
  },
  {
   "cell_type": "code",
   "execution_count": null,
   "metadata": {},
   "outputs": [],
   "source": [
    "all_data = pd.concat([train_data, test_data], axis=0)"
   ]
  },
  {
   "cell_type": "code",
   "execution_count": null,
   "metadata": {},
   "outputs": [],
   "source": [
    "all_data[\"event\"] = all_data.imgs.apply(lambda x: x.split(\"_\")[0])\n",
    "all_data[\"event\"] = np.argmax(pd.get_dummies(all_data.event).to_numpy(), axis=1)"
   ]
  },
  {
   "cell_type": "code",
   "execution_count": null,
   "metadata": {},
   "outputs": [],
   "source": [
    "train_data[\"event\"] = all_data.event.iloc[: train_data.shape[0]]\n",
    "test_data[\"event\"] = all_data.event.iloc[train_data.shape[0] :]"
   ]
  },
  {
   "cell_type": "code",
   "execution_count": null,
   "metadata": {},
   "outputs": [],
   "source": [
    "all_data.event.unique().shape"
   ]
  }
 ],
 "metadata": {
  "kernelspec": {
   "display_name": "Python 3.9.12 ('fake_news_detection')",
   "language": "python",
   "name": "python3"
  },
  "language_info": {
   "codemirror_mode": {
    "name": "ipython",
    "version": 3
   },
   "file_extension": ".py",
   "mimetype": "text/x-python",
   "name": "python",
   "nbconvert_exporter": "python",
   "pygments_lexer": "ipython3",
   "version": "3.9.12"
  },
  "vscode": {
   "interpreter": {
    "hash": "a289c90f01c4539891e961280e81b0f3dd3c992399cf7e9c131c6d3a4abe927d"
   }
  }
 },
 "nbformat": 4,
 "nbformat_minor": 2
}
