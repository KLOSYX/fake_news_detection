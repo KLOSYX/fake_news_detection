{
 "cells": [
  {
   "cell_type": "code",
   "execution_count": null,
   "metadata": {},
   "outputs": [],
   "source": [
    "from sklearn.cluster import "
   ]
  }
 ],
 "metadata": {
  "kernelspec": {
   "display_name": "Python 3.9.12 ('fake_news_detection')",
   "language": "python",
   "name": "python3"
  },
  "language_info": {
   "name": "python",
   "version": "3.9.12"
  },
  "vscode": {
   "interpreter": {
    "hash": "a289c90f01c4539891e961280e81b0f3dd3c992399cf7e9c131c6d3a4abe927d"
   }
  }
 },
 "nbformat": 4,
 "nbformat_minor": 2
}
